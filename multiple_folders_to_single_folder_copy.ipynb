{
 "cells": [
  {
   "cell_type": "code",
   "execution_count": 96,
   "id": "a972a45d",
   "metadata": {},
   "outputs": [],
   "source": [
    "import glob\n",
    "import shutil\n",
    "import os"
   ]
  },
  {
   "cell_type": "code",
   "execution_count": 97,
   "id": "2a9811e7",
   "metadata": {},
   "outputs": [],
   "source": [
    "main_path = os.getcwd()\n",
    "folders = glob.glob(\"D:\\yolo_Grocery_dataset\\Walmart-videos\\Converted-images\\*)\")\n",
    "output = \"D:\\yolo_Grocery_dataset\\Walmart-videos\\Converted-images\\All_images\\\\\"\n"
   ]
  },
  {
   "cell_type": "code",
   "execution_count": null,
   "id": "2488d51f",
   "metadata": {},
   "outputs": [],
   "source": []
  },
  {
   "cell_type": "code",
   "execution_count": 116,
   "id": "42bf595a",
   "metadata": {},
   "outputs": [],
   "source": [
    "def main():\n",
    "    for i in range(len(folders)):\n",
    "\n",
    "        os.chdir(folders[i])\n",
    "        jpg_files = glob.glob(folders[i] + \"\\*.jpg\")\n",
    "        exact_filename = glob.glob(\"*.jpg\")\n",
    "    \n",
    "        for j in range(len(jpg_files)):\n",
    "            shutil.copyfile(jpg_files[i], str(output) + str(exact_filename[j]))\n",
    "            #print(\"copied\")\n",
    "        print(\"copied from folder ==> \" + str(os.getcwd()) )\n",
    "        os.chdir(main_path)\n",
    "        jpg_files.clear()\n",
    "    print(\"\")\n",
    "    print(\"***********JOB DONE***********\")"
   ]
  },
  {
   "cell_type": "code",
   "execution_count": 117,
   "id": "6e8d972f",
   "metadata": {
    "scrolled": true
   },
   "outputs": [
    {
     "name": "stdout",
     "output_type": "stream",
     "text": [
      "copied from folder ==> D:\\yolo_Grocery_dataset\\Walmart-videos\\Converted-images\\IMG_2149 (9-28-2021 9-51-18 AM)\n",
      "copied from folder ==> D:\\yolo_Grocery_dataset\\Walmart-videos\\Converted-images\\IMG_2150 (9-28-2021 9-51-17 AM)\n",
      "copied from folder ==> D:\\yolo_Grocery_dataset\\Walmart-videos\\Converted-images\\IMG_2151 (9-28-2021 9-51-18 AM)\n",
      "copied from folder ==> D:\\yolo_Grocery_dataset\\Walmart-videos\\Converted-images\\IMG_2152 (9-28-2021 9-51-18 AM)\n",
      "copied from folder ==> D:\\yolo_Grocery_dataset\\Walmart-videos\\Converted-images\\IMG_2153 (9-28-2021 9-51-19 AM)\n",
      "copied from folder ==> D:\\yolo_Grocery_dataset\\Walmart-videos\\Converted-images\\IMG_2154 (9-28-2021 9-51-18 AM)\n",
      "copied from folder ==> D:\\yolo_Grocery_dataset\\Walmart-videos\\Converted-images\\IMG_2155 (9-28-2021 9-51-17 AM)\n",
      "copied from folder ==> D:\\yolo_Grocery_dataset\\Walmart-videos\\Converted-images\\IMG_2156 (9-28-2021 9-51-18 AM)\n",
      "copied from folder ==> D:\\yolo_Grocery_dataset\\Walmart-videos\\Converted-images\\IMG_8912 (9-28-2021 9-51-19 AM)\n",
      "copied from folder ==> D:\\yolo_Grocery_dataset\\Walmart-videos\\Converted-images\\IMG_8913 (9-28-2021 9-51-18 AM)\n",
      "copied from folder ==> D:\\yolo_Grocery_dataset\\Walmart-videos\\Converted-images\\IMG_8914 (9-28-2021 9-51-18 AM)\n",
      "copied from folder ==> D:\\yolo_Grocery_dataset\\Walmart-videos\\Converted-images\\IMG_8915 (9-28-2021 9-51-17 AM)\n",
      "copied from folder ==> D:\\yolo_Grocery_dataset\\Walmart-videos\\Converted-images\\IMG_8919 (9-28-2021 9-51-18 AM)\n",
      "copied from folder ==> D:\\yolo_Grocery_dataset\\Walmart-videos\\Converted-images\\IMG_8920 (9-28-2021 9-51-17 AM)\n",
      "copied from folder ==> D:\\yolo_Grocery_dataset\\Walmart-videos\\Converted-images\\IMG_8921 (9-28-2021 9-51-17 AM)\n",
      "copied from folder ==> D:\\yolo_Grocery_dataset\\Walmart-videos\\Converted-images\\IMG_8923 (9-28-2021 9-51-18 AM)\n",
      "copied from folder ==> D:\\yolo_Grocery_dataset\\Walmart-videos\\Converted-images\\IMG_8924 (9-28-2021 9-51-18 AM)\n",
      "copied from folder ==> D:\\yolo_Grocery_dataset\\Walmart-videos\\Converted-images\\IMG_8925 (9-28-2021 9-51-17 AM)\n",
      "copied from folder ==> D:\\yolo_Grocery_dataset\\Walmart-videos\\Converted-images\\IMG_8926 (9-28-2021 9-51-18 AM)\n",
      "copied from folder ==> D:\\yolo_Grocery_dataset\\Walmart-videos\\Converted-images\\IMG_8927 (9-28-2021 9-51-18 AM)\n",
      "\n",
      "***********JOB DONE***********\n"
     ]
    }
   ],
   "source": [
    "main()"
   ]
  },
  {
   "cell_type": "code",
   "execution_count": null,
   "id": "41279f53",
   "metadata": {},
   "outputs": [],
   "source": []
  }
 ],
 "metadata": {
  "kernelspec": {
   "display_name": "Python 3 (ipykernel)",
   "language": "python",
   "name": "python3"
  },
  "language_info": {
   "codemirror_mode": {
    "name": "ipython",
    "version": 3
   },
   "file_extension": ".py",
   "mimetype": "text/x-python",
   "name": "python",
   "nbconvert_exporter": "python",
   "pygments_lexer": "ipython3",
   "version": "3.7.9"
  }
 },
 "nbformat": 4,
 "nbformat_minor": 5
}
