{
 "cells": [
  {
   "cell_type": "code",
   "execution_count": 41,
   "id": "e7e68efa",
   "metadata": {},
   "outputs": [],
   "source": [
    "import pandas as pd\n",
    "import glob\n",
    "import numpy as np\n",
    "import os\n"
   ]
  },
  {
   "cell_type": "code",
   "execution_count": 42,
   "id": "a8b91749",
   "metadata": {},
   "outputs": [],
   "source": [
    "ext_name = \"xml\"\n",
    "ext_path = \"data\\*.\" + str(ext_name)"
   ]
  },
  {
   "cell_type": "code",
   "execution_count": null,
   "id": "e8780042",
   "metadata": {},
   "outputs": [],
   "source": []
  },
  {
   "cell_type": "code",
   "execution_count": 43,
   "id": "540f6a54",
   "metadata": {},
   "outputs": [],
   "source": [
    "files = glob.glob(ext_path)"
   ]
  },
  {
   "cell_type": "code",
   "execution_count": 44,
   "id": "71e793ef",
   "metadata": {},
   "outputs": [],
   "source": [
    "def del_unwanted(del_list):\n",
    "    loop = len(del_list)\n",
    "    for i in range(loop):\n",
    "        \n",
    "        try:\n",
    "                       \n",
    "            os.remove(str(del_list[i]))\n",
    "            print(str(del_list[i]))\n",
    "        except:\n",
    "            continue"
   ]
  },
  {
   "cell_type": "code",
   "execution_count": 45,
   "id": "73cae3c3",
   "metadata": {},
   "outputs": [],
   "source": [
    "del_unwanted(files)"
   ]
  },
  {
   "cell_type": "code",
   "execution_count": null,
   "id": "ef331401",
   "metadata": {},
   "outputs": [],
   "source": []
  }
 ],
 "metadata": {
  "kernelspec": {
   "display_name": "Python 3 (ipykernel)",
   "language": "python",
   "name": "python3"
  },
  "language_info": {
   "codemirror_mode": {
    "name": "ipython",
    "version": 3
   },
   "file_extension": ".py",
   "mimetype": "text/x-python",
   "name": "python",
   "nbconvert_exporter": "python",
   "pygments_lexer": "ipython3",
   "version": "3.7.9"
  }
 },
 "nbformat": 4,
 "nbformat_minor": 5
}
