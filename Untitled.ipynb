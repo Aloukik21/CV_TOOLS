{
 "cells": [
  {
   "cell_type": "code",
   "execution_count": 11,
   "id": "da57a181",
   "metadata": {},
   "outputs": [],
   "source": [
    "from xml.etree import ElementTree as et\n",
    "datafile = \"xml/frame_vid_0_490.xml\"\n",
    "import re\n",
    "xmlstring = open(datafile, 'r').read()\n",
    "substitutions = {'person': 'myvalue'}\n",
    "pattern = re.compile(r'%([^%]+)%')\n",
    "xmlstring = re.sub(pattern, lambda m: substitutions[m.group(1)], xmlstring)"
   ]
  },
  {
   "cell_type": "code",
   "execution_count": null,
   "id": "eb182fd4",
   "metadata": {},
   "outputs": [],
   "source": []
  },
  {
   "cell_type": "code",
   "execution_count": null,
   "id": "2c5a21b5",
   "metadata": {},
   "outputs": [],
   "source": []
  },
  {
   "cell_type": "code",
   "execution_count": 19,
   "id": "1e3e8ac3",
   "metadata": {},
   "outputs": [],
   "source": [
    "import lxml.etree as ET\n",
    "#using lxml instead of xml preserved the comments\n",
    "\n",
    "#adding the encoding when the file is opened and written is needed to avoid a charmap error\n",
    "\n",
    "def xml_renamer(datafile):\n",
    "    datafile = str(datafile)\n",
    "    with open(datafile, encoding=\"utf8\") as f:\n",
    "      tree = ET.parse(f)\n",
    "      root = tree.getroot()\n",
    "\n",
    "\n",
    "      for elem in root.getiterator():\n",
    "        try:\n",
    "          elem.text = elem.text.replace('person', 'THIS WORKED')\n",
    "\n",
    "        except AttributeError:\n",
    "          pass\n",
    "\n",
    "    #tree.write('output.xml', encoding=\"utf8\")\n",
    "    # Adding the xml_declaration and method helped keep the header info at the top of the file.\n",
    "    tree.write(datafile, xml_declaration=True, method='xml', encoding=\"utf8\")"
   ]
  },
  {
   "cell_type": "code",
   "execution_count": 20,
   "id": "0855f08b",
   "metadata": {},
   "outputs": [
    {
     "name": "stdout",
     "output_type": "stream",
     "text": [
      "xml\\frame_vid_0_475.xml\n",
      "xml\\frame_vid_0_490.xml\n",
      "xml\\frame_vid_0_550.xml\n",
      "xml\\frame_vid_0_565.xml\n",
      "xml\\frame_vid_0_600.xml\n",
      "xml\\frame_vid_1_585.xml\n"
     ]
    }
   ],
   "source": [
    "import glob\n",
    "import os\n",
    "for filename in glob.glob('xml/*.xml'):\n",
    "   with open(os.path.join(os.getcwd(), filename), 'r') as f: # open in readonly mode\n",
    "    print(filename)\n",
    "    xml_renamer(filename)\n",
    "    \n",
    "    \n",
    "      # do your stuff"
   ]
  },
  {
   "cell_type": "code",
   "execution_count": null,
   "id": "a0fedcfd",
   "metadata": {},
   "outputs": [],
   "source": []
  }
 ],
 "metadata": {
  "kernelspec": {
   "display_name": "Python 3",
   "language": "python",
   "name": "python3"
  },
  "language_info": {
   "codemirror_mode": {
    "name": "ipython",
    "version": 3
   },
   "file_extension": ".py",
   "mimetype": "text/x-python",
   "name": "python",
   "nbconvert_exporter": "python",
   "pygments_lexer": "ipython3",
   "version": "3.7.8"
  }
 },
 "nbformat": 4,
 "nbformat_minor": 5
}
